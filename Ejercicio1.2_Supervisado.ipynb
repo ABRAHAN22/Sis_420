{
  "cells": [
    {
      "cell_type": "code",
      "execution_count": 1,
      "metadata": {
        "id": "20Q29kX8SxgJ"
      },
      "outputs": [],
      "source": [
        "# utilizado para la manipulación de directorios y rutas\n",
        "import os\n",
        "\n",
        "# Cálculo científico y vectorial para python\n",
        "import numpy as np\n",
        "\n",
        "# Libreria para graficos\n",
        "from matplotlib import pyplot\n",
        "\n",
        "import pandas as pd\n",
        "# Modulo de optimizacion en scipy\n",
        "from scipy import optimize\n",
        "\n",
        "# modulo para cargar archivos en formato MATLAB\n",
        "# from scipy.io import loadmat\n",
        "\n",
        "# le dice a matplotlib que incruste gráficos en el cuaderno\n",
        "%matplotlib inline"
      ]
    },
    {
      "cell_type": "code",
      "execution_count": 3,
      "metadata": {
        "id": "hhRjL2ptSxgK"
      },
      "outputs": [],
      "source": [
        "# donde tienes 784 características de entrada (28*28) y 10 etiquetas posibles (num_labels = 10), \n",
        "input_layer_size  = 3072\n",
        "\n",
        "num_labels = 10\n",
        "\n",
        "data = pd.read_csv('data_13.csv', delimiter=',')\n",
        "\n",
        "X = data.iloc[:, :].values\n",
        "#y = data.iloc[:, 0].values\n",
        "\n",
        "#m = y.size"
      ]
    },
    {
      "cell_type": "code",
      "execution_count": 4,
      "metadata": {
        "colab": {
          "base_uri": "https://localhost:8080/"
        },
        "id": "aw2yVc8ESxgL",
        "outputId": "4d076c97-2309-40d3-ee43-365984987144"
      },
      "outputs": [
        {
          "name": "stdout",
          "output_type": "stream",
          "text": [
            "[[136.  70.  39. ... 255. 255. 255.]\n",
            " [  0.   0.   0. ...   0.   0.   0.]\n",
            " [  0.   0.   0. ...   0.   0.   0.]\n",
            " ...\n",
            " [  0.   0.   0. ...   0.   0.   0.]\n",
            " [  0.   0.   0. ...   0.   0.   0.]\n",
            " [  0.   0.   0. ...   0.   0.   0.]]\n"
          ]
        }
      ],
      "source": [
        "print(X)"
      ]
    },
    {
      "cell_type": "code",
      "execution_count": 5,
      "metadata": {},
      "outputs": [
        {
          "name": "stdout",
          "output_type": "stream",
          "text": [
            "[[0.53333333 0.2745098  0.15294118 ... 1.         1.         1.        ]\n",
            " [0.         0.         0.         ... 0.         0.         0.        ]\n",
            " [0.         0.         0.         ... 0.         0.         0.        ]\n",
            " ...\n",
            " [0.         0.         0.         ... 0.         0.         0.        ]\n",
            " [0.         0.         0.         ... 0.         0.         0.        ]\n",
            " [0.         0.         0.         ... 0.         0.         0.        ]]\n"
          ]
        }
      ],
      "source": [
        "# Normalizar dividiendo entre 255\n",
        "X = X / 255.0\n",
        "\n",
        "print(X)"
      ]
    },
    {
      "cell_type": "code",
      "execution_count": 6,
      "metadata": {
        "id": "0sB9Kyi8SxgN"
      },
      "outputs": [],
      "source": [
        "# La función sigmoidal toma cualquier valor real y lo \"aplana\" a un valor entre 0 y 1,\n",
        "# lo cual es útil para interpretar la salida como una probabilidad.\n",
        "def sigmoid(z):\n",
        "    return 1.0 / (1.0 + np.exp(-z))"
      ]
    },
    {
      "cell_type": "code",
      "execution_count": 127,
      "metadata": {
        "id": "w5S0OOswSxgN"
      },
      "outputs": [],
      "source": [
        "# esta función es para calcular el costo y el gradiente en tu algoritmo de optimización\n",
        "def lrCostFunction(theta, X, y, lambda_):\n",
        "    m = y.size\n",
        "\n",
        "    # convierte las etiquetas a valores enteros si son boleanos\n",
        "    if y.dtype == bool:\n",
        "        y = y.astype(int)\n",
        "\n",
        "    J = 0\n",
        "    grad = np.zeros(theta.shape)\n",
        "\n",
        "    # Calcula la hipótesis utilizando la función sigmoidal.\n",
        "    h = sigmoid(X.dot(theta.T))\n",
        "\n",
        "    temp = theta\n",
        "    temp[0] = 0\n",
        "\n",
        "    # Calcula el costo regularizado utilizando la función de costo de la regresión logística,\n",
        "    # añadiendo el término de regularización para todos los parámetros excepto theta_0.\n",
        "    J = (1 / m) * np.sum(-y.dot(np.log(h)) - (1 - y).dot(np.log(1 - h))) + (lambda_ / (2 * m)) * np.sum(np.square(temp))\n",
        "\n",
        "    grad = (1 / m) * (h - y).dot(X)\n",
        "    grad = grad + (lambda_ / m) * temp\n",
        "\n",
        "    return J, grad"
      ]
    },
    {
      "cell_type": "code",
      "execution_count": 128,
      "metadata": {
        "id": "V0rOw5qhSxgN"
      },
      "outputs": [],
      "source": [
        "# Esta funcion entrenará un clasificador de regresión logística para cada clase utilizando el\n",
        "# método de descenso del gradiente conjugado, optimizando la función de costo regularizada\n",
        "# lrCostFunction para cada clase. Luego, all_theta contendrá los parámetros theta óptimos para\n",
        "# cada clasificador, que puedes utilizar para hacer predicciones sobre nuevos datos.\n",
        "def oneVsAll(X, y, num_labels, lambda_):\n",
        "    m, n = X.shape\n",
        "\n",
        "    all_theta = np.zeros((num_labels, n + 1))\n",
        "\n",
        "    # Agrega unos a la matriz X\n",
        "    X = np.concatenate([np.ones((m, 1)), X], axis=1)\n",
        "\n",
        "    for c in np.arange(num_labels):\n",
        "        initial_theta = np.zeros(n + 1)\n",
        "        options = {'maxiter': 50}\n",
        "        res = optimize.minimize(lrCostFunction,\n",
        "                                initial_theta,\n",
        "                                (X, (y == c), lambda_),\n",
        "                                jac=True,\n",
        "                                method='CG',\n",
        "                                options=options)\n",
        "\n",
        "        all_theta[c] = res.x\n",
        "\n",
        "    return all_theta"
      ]
    },
    {
      "cell_type": "code",
      "execution_count": 129,
      "metadata": {
        "colab": {
          "base_uri": "https://localhost:8080/"
        },
        "id": "w6JbsLLMSxgO",
        "outputId": "5ceffabd-2a08-4083-bfd0-66df098e267b"
      },
      "outputs": [
        {
          "name": "stdout",
          "output_type": "stream",
          "text": [
            "(10, 785)\n"
          ]
        }
      ],
      "source": [
        "# est funcion llamará a oneVsAll para entrenar los clasificadores de regresión logística\n",
        "# sin regularización y luego imprimirá la forma de all_theta.\n",
        "# Dependiendo de tus datos y del número de características, la salida podría ser algo como\n",
        "# (10, 785) si X tiene 784 características más el término de sesgo añadido.\n",
        "# Esto significa que tienes 10 clasificadores binarios entrenados,\n",
        "# uno para cada clase, con 785 parámetros (incluyendo el término de sesgo).\n",
        "lambda_ = 0\n",
        "all_theta = oneVsAll(X, y, num_labels, lambda_)\n",
        "print(all_theta.shape)"
      ]
    },
    {
      "cell_type": "code",
      "execution_count": 130,
      "metadata": {
        "colab": {
          "base_uri": "https://localhost:8080/"
        },
        "id": "V1EfKaiEgtcw",
        "outputId": "e97fc4c5-bbae-4f21-dfac-afb2d3333669"
      },
      "outputs": [
        {
          "name": "stdout",
          "output_type": "stream",
          "text": [
            "[[-4.74495975  0.          0.         ...  0.          0.\n",
            "   0.        ]\n",
            " [-1.20010331  0.          0.         ...  0.          0.\n",
            "   0.        ]\n",
            " [-2.95016202  0.          0.         ...  0.          0.\n",
            "   0.        ]\n",
            " ...\n",
            " [-1.10023019  0.          0.         ...  0.          0.\n",
            "   0.        ]\n",
            " [-7.10986697  0.          0.         ...  0.          0.\n",
            "   0.        ]\n",
            " [-4.50093645  0.          0.         ...  0.          0.\n",
            "   0.        ]]\n"
          ]
        }
      ],
      "source": [
        "print(all_theta)"
      ]
    },
    {
      "cell_type": "code",
      "execution_count": 131,
      "metadata": {
        "id": "PjFoFe1bSxgO"
      },
      "outputs": [],
      "source": [
        "# Después de entrenar los clasificadores utilizando oneVsAll y obtener all_theta,\n",
        "# puedes utilizar predictOneVsAll para predecir las etiquetas de clase para nuevos datos X\n",
        "# all_theta contendrá los parámetros theta óptimos para cada clasificador binario entrenado\n",
        "# utilizando el enfoque uno contra todos. Luego, predictOneVsAll utilizará estos parámetros\n",
        "# para predecir las etiquetas de clase para el conjunto de datos X.\n",
        "# Las predicciones se almacenarán en predictions\n",
        "def predictOneVsAll(all_theta, X):\n",
        "    m = X.shape[0];\n",
        "    num_labels = all_theta.shape[0]\n",
        "\n",
        "    p = np.zeros(m)\n",
        "\n",
        "    # Add ones to the X data matrix\n",
        "    X = np.concatenate([np.ones((m, 1)), X], axis=1)\n",
        "    p = np.argmax(sigmoid(X.dot(all_theta.T)), axis = 1)\n",
        "\n",
        "    return p"
      ]
    },
    {
      "cell_type": "code",
      "execution_count": 132,
      "metadata": {
        "colab": {
          "base_uri": "https://localhost:8080/"
        },
        "id": "mE7v5cglSxgO",
        "outputId": "fac6b8ae-2ff9-47c6-dcd9-22b49afff1a0"
      },
      "outputs": [
        {
          "name": "stdout",
          "output_type": "stream",
          "text": [
            "(60000, 784)\n",
            "Precision del conjuto de entrenamiento: 92.20%\n",
            "(140, 784)\n",
            "(140, 785)\n",
            "[3 5 3 6 1 7 2 8 6 9 4 0 9 1 1 2 4 3 7 7 3 8 6 7 0 5 6 0 7 6 1 8 7 9 3 9 8\n",
            " 5 5 3 3 0 7 4 9 8 0 9 4 1 4 4 6 0 4 5 6 1 0 0 1 7 1 6 3 0 2 1 1 7 0 0 2 6\n",
            " 7 8 3 9 0 4 6 7 4 6 8 0 7 8 3 1 5 7 1 7 1 1 6 3 0 2 9 3 1 1 0 4 9 2 0 0 2\n",
            " 0 2 7 1 8 6 4 1 6 3 4 3 9 5 3 3 8 5 4 7 7 4 2 8 5 8 6 2 3]\n",
            "[3 5 3 6 1 7 2 8 6 9 4 0 9 1 1 2 4 3 2 7 3 8 6 9 0 5 6 0 7 6 1 8 7 9 3 9 8\n",
            " 5 9 3 3 0 7 4 9 8 0 9 4 1 4 4 6 0 4 5 6 1 0 0 1 7 1 6 3 0 2 1 1 7 9 0 2 6\n",
            " 7 8 3 9 0 4 6 7 4 6 8 0 7 8 3 1 5 7 1 7 1 1 6 3 0 2 9 3 1 1 0 4 9 2 0 0 2\n",
            " 0 2 7 1 8 6 4 1 6 3 4 5 9 1 3 3 8 5 4 7 7 4 2 8 5 8 6 7 3]\n"
          ]
        }
      ],
      "source": [
        "# La línea print('Precisión del conjunto de entrenamiento: {:.2f}%'.format(np.mean(pred == y) * 100))\n",
        "# muestra la precisión del modelo en el conjunto de entrenamiento.\n",
        "# Esto te da una idea de qué tan bien está aprendiendo tu modelo sobre los datos de entrenamiento.\n",
        "# Las líneas relacionadas con XPrueba muestran cómo puedes usar el modelo entrenado\n",
        "# (all_theta) para hacer predicciones sobre nuevos datos (XPrueba). La comparación de p\n",
        "# (predicciones) con y[10:150] (etiquetas verdaderas) te permite evaluar cómo se desempeña el modelo en datos no vistos.\n",
        "print(X.shape)\n",
        "pred = predictOneVsAll(all_theta, X)\n",
        "print('Precision del conjuto de entrenamiento: {:.2f}%'.format(np.mean(pred == y) * 100))\n",
        "XPrueba = X[10:150, :].copy()\n",
        "print(XPrueba.shape)\n",
        "XPrueba = np.concatenate([np.ones((140, 1)), XPrueba], axis=1)\n",
        "print(XPrueba.shape)\n",
        "\n",
        "# Realiza predicciones sobre XPrueba utilizando los parámetros all_theta entrenados.\n",
        "# sigmoid(XPrueba.dot(all_theta.T)) calcula las probabilidades de clase para cada ejemplo en XPrueba,\n",
        "# y np.argmax(..., axis=1) determina la clase predicha tomando el índice con la probabilidad más alta.\n",
        "p = np.argmax(sigmoid(XPrueba.dot(all_theta.T)), axis = 1)\n",
        "print(p)\n",
        "\n",
        "print(y[10:150])"
      ]
    }
  ],
  "metadata": {
    "colab": {
      "provenance": []
    },
    "kernelspec": {
      "display_name": "Python 3",
      "language": "python",
      "name": "python3"
    },
    "language_info": {
      "codemirror_mode": {
        "name": "ipython",
        "version": 3
      },
      "file_extension": ".py",
      "mimetype": "text/x-python",
      "name": "python",
      "nbconvert_exporter": "python",
      "pygments_lexer": "ipython3",
      "version": "3.11.9"
    }
  },
  "nbformat": 4,
  "nbformat_minor": 0
}
